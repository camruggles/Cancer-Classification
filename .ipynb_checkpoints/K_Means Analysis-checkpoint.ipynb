{
 "cells": [
  {
   "cell_type": "code",
   "execution_count": 26,
   "metadata": {},
   "outputs": [
    {
     "name": "stdout",
     "output_type": "stream",
     "text": [
      "70696076.9601\n",
      "21265250.3551\n",
      "13185019.0512\n",
      "7444501.47372\n",
      "4974921.11636\n",
      "3621825.1662\n",
      "2633740.24003\n",
      "1919957.85076\n",
      "1491170.41943\n"
     ]
    },
    {
     "data": {
      "image/png": "[encoded data removed]",
      "text/plain": [
       "<Figure size 432x288 with 1 Axes>"
      ]
     },
     "metadata": {},
     "output_type": "display_data"
    }
   ],
   "source": [
    "import read_clean\n",
    "import matplotlib.pyplot as plt\n",
    "%matplotlib inline\n",
    "import pandas as pd\n",
    "import numpy as np\n",
    "from sklearn.cluster import KMeans\n",
    "\n",
    "# Getting the Data\n",
    "X,y = read_clean.getCleanedData(\"data.csv\")\n",
    "\n",
    "###############################################\n",
    "# Good Value of K\n",
    "###############################################\n",
    "\n",
    "# I used the elbow method to help me find the best value of k. \n",
    "#The idea is to choose a small value of k that still has a low SSE, and the elbow usually represents \n",
    "#where we start to have diminishing returns by increasing k. \n",
    "\n",
    "inertia = {}\n",
    "\n",
    "for i in range(1,10):\n",
    "    \n",
    "    # Getting the Data\n",
    "    X,y = read_clean.getCleanedData(\"data.csv\")\n",
    "        \n",
    "    kmeans = KMeans(n_clusters = i, random_state = 1)\n",
    "    kmeans = kmeans.fit(X)    \n",
    "    inertia[i] = kmeans.inertia_\n",
    "    print(kmeans.inertia_)\n",
    "    \n",
    "plt.figure()\n",
    "plt.plot(list(inertia.keys()), list(inertia.values()))\n",
    "plt.xlabel(\"Number of clusters\")\n",
    "plt.ylabel(\"Inertia\")\n",
    "plt.show() "
   ]
  },
  {
   "cell_type": "code",
   "execution_count": null,
   "metadata": {
    "collapsed": true
   },
   "outputs": [],
   "source": [
    "# As shown in the graph below, the elbow of the graph is 2. \n",
    "# So, 2 is a good value of K and it makes sense as the tumor is either malignant or benign\n",
    "\n",
    "elbow = 2\n",
    "X,y = read_clean.getCleanedData(\"data.csv\")\n",
    "        \n",
    "kmeans = KMeans(n_clusters = elbow,  random_state = 1)\n",
    "kmeans = kmeans.fit(X)  \n",
    "\n",
    "y_kmeans = kmeans.predict(X)\n",
    "\n",
    "groups = {}\n",
    "\n",
    "for i in range(elbow):\n",
    "    groups[i] = []\n",
    "    \n",
    "for i in range(len(y_kmeans)):\n",
    "    groups[y_kmeans[i]].append(i)\n",
    "\n",
    "for i in range(elbow):\n",
    "    print(len(groups[i]))\n",
    "'''"
   ]
  },
  {
   "cell_type": "code",
   "execution_count": null,
   "metadata": {
    "collapsed": true
   },
   "outputs": [],
   "source": []
  }
 ],
 "metadata": {
  "kernelspec": {
   "display_name": "Python 2",
   "language": "python",
   "name": "python2"
  },
  "language_info": {
   "codemirror_mode": {
    "name": "ipython",
    "version": 2
   },
   "file_extension": ".py",
   "mimetype": "text/x-python",
   "name": "python",
   "nbconvert_exporter": "python",
   "pygments_lexer": "ipython2",
   "version": "2.7.14"
  }
 },
 "nbformat": 4,
 "nbformat_minor": 2
}
