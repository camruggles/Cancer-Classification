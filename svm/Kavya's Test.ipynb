{
 "cells": [
  {
   "cell_type": "code",
   "execution_count": 10,
   "metadata": {},
   "outputs": [
    {
     "name": "stdout",
     "output_type": "stream",
     "text": [
      "Fold 0, total correct 104 / 113\n",
      "Fold 1, total correct 95 / 113\n",
      "Fold 2, total correct 95 / 113\n",
      "Fold 3, total correct 74 / 113\n",
      "Fold 4, total correct 99 / 113\n"
     ]
    }
   ],
   "source": [
    "import sys\n",
    "import numpy as np\n",
    "import svm\n",
    "import read_clean as dataCollector\n",
    "\n",
    "from random import seed\n",
    "from random import randrange\n",
    "\n",
    "def cross_validation_split(dataset, folds=3):\n",
    "    dataset_split = list()\n",
    "    dataset_copy = list(dataset)\n",
    "    fold_size = int(len(dataset) / folds)\n",
    "    for i in range(folds):\n",
    "        fold = list()\n",
    "        while len(fold) < fold_size:\n",
    "            index = randrange(len(dataset_copy))\n",
    "            fold.append(dataset_copy.pop(index))\n",
    "        dataset_split.append(fold)\n",
    "        \n",
    "    return dataset_split\n",
    "\n",
    "# extract the data and the labels\n",
    "X, y = dataCollector.getCleanedData(\"data.csv\")\n",
    "seed(1)\n",
    "n, d = X.shape\n",
    "\n",
    "# create a dataset with the labels and the data mixed together\n",
    "dataset = np.zeros((n, d+1))\n",
    "dataset[:, 0] = y\n",
    "dataset[:, 1:] = X\n",
    "\n",
    "# extract 10 folds from the data\n",
    "folds = cross_validation_split(dataset, 5)\n",
    "\n",
    "# print(folds)\n",
    "# for each fold, figure out how many data points are in the folds\n",
    "# excluding the one about to be tested\n",
    "for i in xrange(5):\n",
    "    totalRows = 0\n",
    "    totalCols = 0\n",
    "    n, d = dataset.shape\n",
    "    totalCols = d\n",
    "    for j in xrange(5):\n",
    "        if j == i:\n",
    "            continue\n",
    "        currentFold = np.matrix(folds[j])\n",
    "        n, d = currentFold.shape\n",
    "        totalRows += n\n",
    "\n",
    "    # construct the training set with the row count obtained\n",
    "    # and fill it with the training data\n",
    "    trainingSet = np.empty((totalRows, totalCols))\n",
    "    rowCounter = 0\n",
    "    for j in xrange(5):\n",
    "        if j == i:\n",
    "            continue\n",
    "        currentfold = np.matrix(folds[j])\n",
    "        n, d = currentfold.shape\n",
    "        trainingSet[rowCounter:rowCounter+n, :] = currentfold[j]\n",
    "        rowCounter += n\n",
    "\n",
    "    # extract the labels and the data\n",
    "    y2 = trainingSet[:, 0]\n",
    "    X2 = trainingSet[:, 1:]\n",
    "    \n",
    "    # train the perceptron\n",
    "    theta = svm.train(X2, y2)\n",
    "\n",
    "    # use the last fold for the test set\n",
    "    # extract the labels and the test points\n",
    "    testSet = np.matrix(folds[i])\n",
    "    n, d = testSet.shape\n",
    "    ttc = 0  # Total Test count\n",
    "    cc = 0  # Total correct count\n",
    "    for j in xrange(n):\n",
    "        # extract the test point and test label\n",
    "        test_point = testSet[j, 1:].T\n",
    "        test_label = testSet[j, 0]\n",
    "        # count if the test was good or not\n",
    "        if svm.test(theta, test_point) == test_label:\n",
    "            cc += 1\n",
    "        ttc += 1\n",
    "\n",
    "    # print the results of the test\n",
    "    sys.stdout.write('Fold %d, total correct %d / %d\\n' % (i, cc, ttc))\n"
   ]
  },
  {
   "cell_type": "code",
   "execution_count": null,
   "metadata": {
    "collapsed": true
   },
   "outputs": [],
   "source": []
  }
 ],
 "metadata": {
  "kernelspec": {
   "display_name": "Python 2",
   "language": "python",
   "name": "python2"
  },
  "language_info": {
   "codemirror_mode": {
    "name": "ipython",
    "version": 2
   },
   "file_extension": ".py",
   "mimetype": "text/x-python",
   "name": "python",
   "nbconvert_exporter": "python",
   "pygments_lexer": "ipython2",
   "version": "2.7.14"
  }
 },
 "nbformat": 4,
 "nbformat_minor": 2
}
